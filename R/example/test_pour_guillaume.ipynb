{
 "cells": [
  {
   "cell_type": "code",
   "execution_count": 32,
   "id": "502c930a-47e5-4986-8c1a-01572a9c68ac",
   "metadata": {},
   "outputs": [],
   "source": [
    "source('../utilities.R')\n",
    "library(readr)\n",
    "quantile_forecast <- readRDS(\"../../Outputs/quantile_forecast.rds\")\n",
    "df <- read.csv(\"../../Data/palo_alto.csv\")"
   ]
  },
  {
   "cell_type": "code",
   "execution_count": 33,
   "id": "42a878f8-d411-40ba-9c2e-f3f185d81358",
   "metadata": {},
   "outputs": [],
   "source": [
    "starts = '2019-01-07'\n",
    "ends = '2019-11-24' \n",
    "horizon = 14 \n",
    "step = 15\n",
    "tz = \"US/Pacific\""
   ]
  },
  {
   "cell_type": "code",
   "execution_count": 34,
   "id": "e2546de6-cf57-4dd9-a6d8-377a4590e73c",
   "metadata": {},
   "outputs": [],
   "source": [
    "sess <- sessions(df = df,train_starts = starts,train_ends = ends,tz = tz)\n",
    "trans <- transactions(df = df,train_starts = starts,train_ends = ends,tz = tz)\n",
    "prof <- load_profile(trans, step =  step,tz = \"US/Pacific\")"
   ]
  },
  {
   "cell_type": "code",
   "execution_count": 35,
   "id": "ea55575a-af71-4c7c-9c72-4071139a6833",
   "metadata": {},
   "outputs": [],
   "source": [
    "write_csv(prof %>% select(Start,Power),paste0('profiles_palo_alto.csv'))"
   ]
  },
  {
   "cell_type": "code",
   "execution_count": 36,
   "id": "64aaf3be-06c6-438e-be7c-45e7c6aad767",
   "metadata": {},
   "outputs": [],
   "source": [
    "#####"
   ]
  },
  {
   "cell_type": "code",
   "execution_count": 61,
   "id": "dc552856-7a4e-417d-bb31-6bde72985318",
   "metadata": {},
   "outputs": [
    {
     "name": "stderr",
     "output_type": "stream",
     "text": [
      "\u001b[1mRows: \u001b[22m\u001b[34m30912\u001b[39m \u001b[1mColumns: \u001b[22m\u001b[34m2\u001b[39m\n",
      "\u001b[36m──\u001b[39m \u001b[1mColumn specification\u001b[22m \u001b[36m─────────────────────────────────────────────────────────────────────────────────────────────────────────────\u001b[39m\n",
      "\u001b[1mDelimiter:\u001b[22m \",\"\n",
      "\u001b[32mdbl\u001b[39m  (1): Power\n",
      "\u001b[34mdttm\u001b[39m (1): Start\n",
      "\n",
      "\u001b[36mℹ\u001b[39m Use `spec()` to retrieve the full column specification for this data.\n",
      "\u001b[36mℹ\u001b[39m Specify the column types or set `show_col_types = FALSE` to quiet this message.\n"
     ]
    }
   ],
   "source": [
    "profile <- read_csv(\"profiles_palo_alto.csv\") %>%\n",
    "    mutate(Start = with_tz(Start,tzone=tz))"
   ]
  },
  {
   "cell_type": "code",
   "execution_count": 76,
   "id": "49dc0165-70a7-4a59-9693-0e4fe8d167a8",
   "metadata": {},
   "outputs": [
    {
     "name": "stdout",
     "output_type": "stream",
     "text": [
      "[1] \"===== Conformal prediction =====\"\n"
     ]
    }
   ],
   "source": [
    "calib_starts = as.Date('2019-09-30',tz=tz)\n",
    "calib_ends = as.Date('2019-10-06',tz=tz) \n",
    "test_starts = as.Date('2019-10-07',tz=tz)\n",
    "test_ends = as.Date('2019-10-13',tz=tz)\n",
    "horizon = 14 \n",
    "step = 15\n",
    "calib_dates <- seq(from = calib_starts, to = calib_ends, by = \"day\")\n",
    "test_dates <- seq(from = test_starts, to = test_ends, by = \"day\")\n",
    " \n",
    "pred_dates <- seq(from = calib_starts, to = test_ends, by = \"day\")\n",
    " \n",
    "observation <- profile  %>% filter(as.Date(Start,tz=tz) %in% pred_dates)\n",
    " \n",
    "print(\"===== Conformal prediction =====\")\n",
    "# prediction  <- quantile_forecast %>% select(Start,mean)\n",
    "prediction <- quantile_forecast %>% select(Start,q10,q90)\n",
    "observation_calib <- observation %>% filter(as.Date(Start,tz=tz) %in% calib_dates)\n",
    "observation_test  <- observation %>% filter(as.Date(Start,tz=tz) %in% test_dates)\n",
    "prediction_calib  <- prediction %>% filter(as.Date(Start,tz=tz) %in% calib_dates)\n",
    "prediction_test   <- prediction %>% filter(as.Date(Start,tz=tz) %in% test_dates)"
   ]
  },
  {
   "cell_type": "code",
   "execution_count": 80,
   "id": "6ef20180-1680-4140-8a7c-d5b5139d85c6",
   "metadata": {},
   "outputs": [
    {
     "data": {
      "text/html": [
       "<table class=\"dataframe\">\n",
       "<caption>A tibble: 6 × 2</caption>\n",
       "<thead>\n",
       "\t<tr><th scope=col>Start</th><th scope=col>Power</th></tr>\n",
       "\t<tr><th scope=col>&lt;dttm&gt;</th><th scope=col>&lt;dbl&gt;</th></tr>\n",
       "</thead>\n",
       "<tbody>\n",
       "\t<tr><td>2019-10-06 22:30:00</td><td>9.411546</td></tr>\n",
       "\t<tr><td>2019-10-06 22:45:00</td><td>9.411546</td></tr>\n",
       "\t<tr><td>2019-10-06 23:00:00</td><td>9.411546</td></tr>\n",
       "\t<tr><td>2019-10-06 23:15:00</td><td>9.411546</td></tr>\n",
       "\t<tr><td>2019-10-06 23:30:00</td><td>9.411546</td></tr>\n",
       "\t<tr><td>2019-10-06 23:45:00</td><td>9.411546</td></tr>\n",
       "</tbody>\n",
       "</table>\n"
      ],
      "text/latex": [
       "A tibble: 6 × 2\n",
       "\\begin{tabular}{ll}\n",
       " Start & Power\\\\\n",
       " <dttm> & <dbl>\\\\\n",
       "\\hline\n",
       "\t 2019-10-06 22:30:00 & 9.411546\\\\\n",
       "\t 2019-10-06 22:45:00 & 9.411546\\\\\n",
       "\t 2019-10-06 23:00:00 & 9.411546\\\\\n",
       "\t 2019-10-06 23:15:00 & 9.411546\\\\\n",
       "\t 2019-10-06 23:30:00 & 9.411546\\\\\n",
       "\t 2019-10-06 23:45:00 & 9.411546\\\\\n",
       "\\end{tabular}\n"
      ],
      "text/markdown": [
       "\n",
       "A tibble: 6 × 2\n",
       "\n",
       "| Start &lt;dttm&gt; | Power &lt;dbl&gt; |\n",
       "|---|---|\n",
       "| 2019-10-06 22:30:00 | 9.411546 |\n",
       "| 2019-10-06 22:45:00 | 9.411546 |\n",
       "| 2019-10-06 23:00:00 | 9.411546 |\n",
       "| 2019-10-06 23:15:00 | 9.411546 |\n",
       "| 2019-10-06 23:30:00 | 9.411546 |\n",
       "| 2019-10-06 23:45:00 | 9.411546 |\n",
       "\n"
      ],
      "text/plain": [
       "  Start               Power   \n",
       "1 2019-10-06 22:30:00 9.411546\n",
       "2 2019-10-06 22:45:00 9.411546\n",
       "3 2019-10-06 23:00:00 9.411546\n",
       "4 2019-10-06 23:15:00 9.411546\n",
       "5 2019-10-06 23:30:00 9.411546\n",
       "6 2019-10-06 23:45:00 9.411546"
      ]
     },
     "metadata": {},
     "output_type": "display_data"
    },
    {
     "data": {
      "text/html": [
       "672"
      ],
      "text/latex": [
       "672"
      ],
      "text/markdown": [
       "672"
      ],
      "text/plain": [
       "[1] 672"
      ]
     },
     "metadata": {},
     "output_type": "display_data"
    }
   ],
   "source": [
    "tail(observation_calib)\n",
    "nrow(observation_calib)"
   ]
  },
  {
   "cell_type": "code",
   "execution_count": 79,
   "id": "e8b7f17f-8fb2-4b7e-84ac-449d36c627f9",
   "metadata": {},
   "outputs": [
    {
     "data": {
      "text/html": [
       "<table class=\"dataframe\">\n",
       "<caption>A tibble: 6 × 3</caption>\n",
       "<thead>\n",
       "\t<tr><th scope=col>Start</th><th scope=col>q10</th><th scope=col>q90</th></tr>\n",
       "\t<tr><th scope=col>&lt;dttm&gt;</th><th scope=col>&lt;dbl&gt;</th><th scope=col>&lt;dbl&gt;</th></tr>\n",
       "</thead>\n",
       "<tbody>\n",
       "\t<tr><td>2019-10-06 22:30:00</td><td>5.994910</td><td>35.65823</td></tr>\n",
       "\t<tr><td>2019-10-06 22:45:00</td><td>5.860691</td><td>33.05179</td></tr>\n",
       "\t<tr><td>2019-10-06 23:00:00</td><td>4.221708</td><td>30.28634</td></tr>\n",
       "\t<tr><td>2019-10-06 23:15:00</td><td>3.332887</td><td>28.10652</td></tr>\n",
       "\t<tr><td>2019-10-06 23:30:00</td><td>3.068357</td><td>26.51760</td></tr>\n",
       "\t<tr><td>2019-10-06 23:45:00</td><td>0.000000</td><td>24.11753</td></tr>\n",
       "</tbody>\n",
       "</table>\n"
      ],
      "text/latex": [
       "A tibble: 6 × 3\n",
       "\\begin{tabular}{lll}\n",
       " Start & q10 & q90\\\\\n",
       " <dttm> & <dbl> & <dbl>\\\\\n",
       "\\hline\n",
       "\t 2019-10-06 22:30:00 & 5.994910 & 35.65823\\\\\n",
       "\t 2019-10-06 22:45:00 & 5.860691 & 33.05179\\\\\n",
       "\t 2019-10-06 23:00:00 & 4.221708 & 30.28634\\\\\n",
       "\t 2019-10-06 23:15:00 & 3.332887 & 28.10652\\\\\n",
       "\t 2019-10-06 23:30:00 & 3.068357 & 26.51760\\\\\n",
       "\t 2019-10-06 23:45:00 & 0.000000 & 24.11753\\\\\n",
       "\\end{tabular}\n"
      ],
      "text/markdown": [
       "\n",
       "A tibble: 6 × 3\n",
       "\n",
       "| Start &lt;dttm&gt; | q10 &lt;dbl&gt; | q90 &lt;dbl&gt; |\n",
       "|---|---|---|\n",
       "| 2019-10-06 22:30:00 | 5.994910 | 35.65823 |\n",
       "| 2019-10-06 22:45:00 | 5.860691 | 33.05179 |\n",
       "| 2019-10-06 23:00:00 | 4.221708 | 30.28634 |\n",
       "| 2019-10-06 23:15:00 | 3.332887 | 28.10652 |\n",
       "| 2019-10-06 23:30:00 | 3.068357 | 26.51760 |\n",
       "| 2019-10-06 23:45:00 | 0.000000 | 24.11753 |\n",
       "\n"
      ],
      "text/plain": [
       "  Start               q10      q90     \n",
       "1 2019-10-06 22:30:00 5.994910 35.65823\n",
       "2 2019-10-06 22:45:00 5.860691 33.05179\n",
       "3 2019-10-06 23:00:00 4.221708 30.28634\n",
       "4 2019-10-06 23:15:00 3.332887 28.10652\n",
       "5 2019-10-06 23:30:00 3.068357 26.51760\n",
       "6 2019-10-06 23:45:00 0.000000 24.11753"
      ]
     },
     "metadata": {},
     "output_type": "display_data"
    },
    {
     "data": {
      "text/html": [
       "672"
      ],
      "text/latex": [
       "672"
      ],
      "text/markdown": [
       "672"
      ],
      "text/plain": [
       "[1] 672"
      ]
     },
     "metadata": {},
     "output_type": "display_data"
    }
   ],
   "source": [
    "tail(prediction_calib)\n",
    "nrow(prediction_calib)"
   ]
  },
  {
   "cell_type": "markdown",
   "id": "a553268d-21d3-47f4-9288-1b3fb09eed7e",
   "metadata": {},
   "source": [
    "### END"
   ]
  }
 ],
 "metadata": {
  "kernelspec": {
   "display_name": "R",
   "language": "R",
   "name": "ir"
  },
  "language_info": {
   "codemirror_mode": "r",
   "file_extension": ".r",
   "mimetype": "text/x-r-source",
   "name": "R",
   "pygments_lexer": "r",
   "version": "4.4.2"
  }
 },
 "nbformat": 4,
 "nbformat_minor": 5
}
