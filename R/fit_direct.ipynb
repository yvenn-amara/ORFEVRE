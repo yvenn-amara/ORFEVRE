{
 "cells": [
  {
   "cell_type": "code",
   "execution_count": 1,
   "metadata": {
    "vscode": {
     "languageId": "r"
    }
   },
   "outputs": [],
   "source": [
    "library(ggplot2)\n",
    "options(repr.plot.width = 10, repr.plot.height = 6)"
   ]
  },
  {
   "cell_type": "code",
   "execution_count": 2,
   "metadata": {
    "vscode": {
     "languageId": "r"
    }
   },
   "outputs": [
    {
     "name": "stderr",
     "output_type": "stream",
     "text": [
      "\n",
      "Attachement du package : 'dplyr'\n",
      "\n",
      "\n",
      "Les objets suivants sont masqués depuis 'package:stats':\n",
      "\n",
      "    filter, lag\n",
      "\n",
      "\n",
      "Les objets suivants sont masqués depuis 'package:base':\n",
      "\n",
      "    intersect, setdiff, setequal, union\n",
      "\n",
      "\n",
      "\n",
      "Attachement du package : 'lubridate'\n",
      "\n",
      "\n",
      "Les objets suivants sont masqués depuis 'package:base':\n",
      "\n",
      "    date, intersect, setdiff, union\n",
      "\n",
      "\n",
      "Registered S3 method overwritten by 'quantmod':\n",
      "  method            from\n",
      "  as.zoo.data.frame zoo \n",
      "\n",
      "Package 'mclust' version 6.1.1\n",
      "Type 'citation(\"mclust\")' for citing this R package in publications.\n",
      "\n",
      "\n",
      "Attachement du package : 'purrr'\n",
      "\n",
      "\n",
      "L'objet suivant est masqué depuis 'package:mclust':\n",
      "\n",
      "    map\n",
      "\n",
      "\n",
      "Le chargement a nécessité le package : future\n",
      "\n",
      "Le chargement a nécessité le package : nlme\n",
      "\n",
      "\n",
      "Attachement du package : 'nlme'\n",
      "\n",
      "\n",
      "L'objet suivant est masqué depuis 'package:forecast':\n",
      "\n",
      "    getResponse\n",
      "\n",
      "\n",
      "L'objet suivant est masqué depuis 'package:dplyr':\n",
      "\n",
      "    collapse\n",
      "\n",
      "\n",
      "This is mgcv 1.9-1. For overview type 'help(\"mgcv-package\")'.\n",
      "\n",
      "\n",
      "Attachement du package : 'mgcv'\n",
      "\n",
      "\n",
      "L'objet suivant est masqué depuis 'package:mclust':\n",
      "\n",
      "    mvn\n",
      "\n",
      "\n"
     ]
    }
   ],
   "source": [
    "source('utilities.R')"
   ]
  },
  {
   "cell_type": "markdown",
   "metadata": {
    "vscode": {
     "languageId": "r"
    }
   },
   "source": [
    "### 0. Input Data"
   ]
  },
  {
   "cell_type": "code",
   "execution_count": 3,
   "metadata": {
    "vscode": {
     "languageId": "r"
    }
   },
   "outputs": [],
   "source": [
    "tz <- \"US/Pacific\"\n",
    "train_starts = '2019-01-07'\n",
    "train_ends = '2019-09-29'\n",
    "step = 15\n",
    "timezone = \"US/Pacific\""
   ]
  },
  {
   "cell_type": "markdown",
   "metadata": {},
   "source": [
    "### 1. Data Preparation"
   ]
  },
  {
   "cell_type": "code",
   "execution_count": 4,
   "metadata": {
    "vscode": {
     "languageId": "r"
    }
   },
   "outputs": [],
   "source": [
    "df <- read.csv(\"../Data/palo_alto.csv\")\n",
    "train_trans <- transactions(df = df, train_starts = train_starts, train_ends = train_ends, tz = \"US/Pacific\")\n",
    "train_profile <- load_profile(train_trans, step, tz = timezone)"
   ]
  },
  {
   "cell_type": "code",
   "execution_count": 5,
   "metadata": {
    "vscode": {
     "languageId": "r"
    }
   },
   "outputs": [
    {
     "name": "stderr",
     "output_type": "stream",
     "text": [
      "Warning message:\n",
      "\"\u001b[1m\u001b[22mUsing `all_of()` outside of a selecting function was deprecated in tidyselect\n",
      "1.2.0.\n",
      "\u001b[36mℹ\u001b[39m See details at\n",
      "  <https://tidyselect.r-lib.org/reference/faq-selection-context.html>\"\n"
     ]
    }
   ],
   "source": [
    "# with weather \n",
    "use_weather = TRUE\n",
    "if(use_weather){\n",
    "    meteo_data <- get_meteo_data('../Data/weather.rds')\n",
    "    train_profile <- train_profile %>% add_meteo_data(meteo_data)  \n",
    "}\n",
    "train_dataframe_weather <- train_profile %>% add_variables_to_profile(step = step)"
   ]
  },
  {
   "cell_type": "code",
   "execution_count": 6,
   "metadata": {
    "vscode": {
     "languageId": "r"
    }
   },
   "outputs": [],
   "source": [
    "# without weather \n",
    "use_weather = FALSE\n",
    "if(use_weather){\n",
    "    meteo_data <- get_meteo_data('../Data/weather.rds')\n",
    "    train_profile <- train_profile %>% add_meteo_data(meteo_data)  \n",
    "}\n",
    "train_dataframe_no_weather <- train_profile %>% add_variables_to_profile(step = step)\n"
   ]
  },
  {
   "cell_type": "markdown",
   "metadata": {},
   "source": [
    "### 2. Fit Models"
   ]
  },
  {
   "cell_type": "code",
   "execution_count": null,
   "metadata": {
    "vscode": {
     "languageId": "r"
    }
   },
   "outputs": [
    {
     "ename": "",
     "evalue": "",
     "output_type": "error",
     "traceback": [
      "\u001b[1;31mThe Kernel crashed while executing code in the current cell or a previous cell. \n",
      "\u001b[1;31mPlease review the code in the cell(s) to identify a possible cause of the failure. \n",
      "\u001b[1;31mClick <a href='https://aka.ms/vscodeJupyterKernelCrash'>here</a> for more info. \n",
      "\u001b[1;31mView Jupyter <a href='command:jupyter.viewOutput'>log</a> for further details."
     ]
    }
   ],
   "source": [
    "method = 'GAMlss'\n",
    "gamlss.fit <- direct_model_fit(train_dataframe_no_weather, method)"
   ]
  },
  {
   "cell_type": "code",
   "execution_count": null,
   "metadata": {
    "vscode": {
     "languageId": "r"
    }
   },
   "outputs": [
    {
     "name": "stdout",
     "output_type": "stream",
     "text": [
      "Estimating learning rate. Each dot corresponds to a loss evaluation. \n",
      "qu = 0.1..........done \n",
      "Estimating learning rate. Each dot corresponds to a loss evaluation. \n",
      "qu = 0.2...........done \n",
      "Estimating learning rate. Each dot corresponds to a loss evaluation. \n",
      "qu = 0.3..........done \n",
      "Estimating learning rate. Each dot corresponds to a loss evaluation. \n",
      "qu = 0.4............done \n",
      "Estimating learning rate. Each dot corresponds to a loss evaluation. \n",
      "qu = 0.5.............done \n",
      "Estimating learning rate. Each dot corresponds to a loss evaluation. \n",
      "qu = 0.6........done \n",
      "Estimating learning rate. Each dot corresponds to a loss evaluation. \n",
      "qu = 0.7............done \n",
      "Estimating learning rate. Each dot corresponds to a loss evaluation. \n",
      "qu = 0.8........done \n",
      "Estimating learning rate. Each dot corresponds to a loss evaluation. \n",
      "qu = 0.9............done \n"
     ]
    }
   ],
   "source": [
    "method = 'QGAM'\n",
    "qgam.fit <- direct_model_fit(train_dataframe_no_weather, method)"
   ]
  },
  {
   "cell_type": "code",
   "execution_count": null,
   "metadata": {
    "vscode": {
     "languageId": "r"
    }
   },
   "outputs": [],
   "source": [
    "method = 'GAM'\n",
    "gam.fit <- direct_model_fit(train_dataframe_no_weather, method)"
   ]
  }
 ],
 "metadata": {
  "kernelspec": {
   "display_name": "R",
   "language": "R",
   "name": "ir"
  },
  "language_info": {
   "codemirror_mode": "r",
   "file_extension": ".r",
   "mimetype": "text/x-r-source",
   "name": "R",
   "pygments_lexer": "r",
   "version": "4.4.2"
  }
 },
 "nbformat": 4,
 "nbformat_minor": 2
}
