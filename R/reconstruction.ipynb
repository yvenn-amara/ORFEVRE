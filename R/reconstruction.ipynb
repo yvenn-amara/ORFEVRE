{
 "cells": [
  {
   "cell_type": "code",
   "execution_count": 2,
   "id": "a95b6c2a-c74c-4928-b23d-95c4f575534f",
   "metadata": {},
   "outputs": [
    {
     "name": "stderr",
     "output_type": "stream",
     "text": [
      "\n",
      "Attaching package: ‘dplyr’\n",
      "\n",
      "\n",
      "The following objects are masked from ‘package:stats’:\n",
      "\n",
      "    filter, lag\n",
      "\n",
      "\n",
      "The following objects are masked from ‘package:base’:\n",
      "\n",
      "    intersect, setdiff, setequal, union\n",
      "\n",
      "\n",
      "\n",
      "Attaching package: ‘lubridate’\n",
      "\n",
      "\n",
      "The following objects are masked from ‘package:base’:\n",
      "\n",
      "    date, intersect, setdiff, union\n",
      "\n",
      "\n",
      "Registered S3 method overwritten by 'quantmod':\n",
      "  method            from\n",
      "  as.zoo.data.frame zoo \n",
      "\n",
      "Package 'mclust' version 6.1.1\n",
      "Type 'citation(\"mclust\")' for citing this R package in publications.\n",
      "\n",
      "\n",
      "Attaching package: ‘purrr’\n",
      "\n",
      "\n",
      "The following object is masked from ‘package:mclust’:\n",
      "\n",
      "    map\n",
      "\n",
      "\n",
      "Loading required package: future\n",
      "\n"
     ]
    }
   ],
   "source": [
    "source('utilities.R')"
   ]
  },
  {
   "cell_type": "markdown",
   "id": "6babe1d8-e06b-4a16-a606-c145a0bf15eb",
   "metadata": {},
   "source": [
    "# All"
   ]
  },
  {
   "cell_type": "code",
   "execution_count": 4,
   "id": "3cc74de7-b2a9-4847-9d68-a7d8cc64ae5b",
   "metadata": {},
   "outputs": [
    {
     "data": {
      "text/html": [
       "<table class=\"dataframe\">\n",
       "<caption>A tibble: 6 × 2</caption>\n",
       "<thead>\n",
       "\t<tr><th scope=col>Start</th><th scope=col>Power</th></tr>\n",
       "\t<tr><th scope=col>&lt;dttm&gt;</th><th scope=col>&lt;dbl&gt;</th></tr>\n",
       "</thead>\n",
       "<tbody>\n",
       "\t<tr><td>2019-01-07 00:00:00</td><td>0</td></tr>\n",
       "\t<tr><td>2019-01-07 00:15:00</td><td>0</td></tr>\n",
       "\t<tr><td>2019-01-07 00:30:00</td><td>0</td></tr>\n",
       "\t<tr><td>2019-01-07 00:45:00</td><td>0</td></tr>\n",
       "\t<tr><td>2019-01-07 01:00:00</td><td>0</td></tr>\n",
       "\t<tr><td>2019-01-07 01:15:00</td><td>0</td></tr>\n",
       "</tbody>\n",
       "</table>\n"
      ],
      "text/latex": [
       "A tibble: 6 × 2\n",
       "\\begin{tabular}{ll}\n",
       " Start & Power\\\\\n",
       " <dttm> & <dbl>\\\\\n",
       "\\hline\n",
       "\t 2019-01-07 00:00:00 & 0\\\\\n",
       "\t 2019-01-07 00:15:00 & 0\\\\\n",
       "\t 2019-01-07 00:30:00 & 0\\\\\n",
       "\t 2019-01-07 00:45:00 & 0\\\\\n",
       "\t 2019-01-07 01:00:00 & 0\\\\\n",
       "\t 2019-01-07 01:15:00 & 0\\\\\n",
       "\\end{tabular}\n"
      ],
      "text/markdown": [
       "\n",
       "A tibble: 6 × 2\n",
       "\n",
       "| Start &lt;dttm&gt; | Power &lt;dbl&gt; |\n",
       "|---|---|\n",
       "| 2019-01-07 00:00:00 | 0 |\n",
       "| 2019-01-07 00:15:00 | 0 |\n",
       "| 2019-01-07 00:30:00 | 0 |\n",
       "| 2019-01-07 00:45:00 | 0 |\n",
       "| 2019-01-07 01:00:00 | 0 |\n",
       "| 2019-01-07 01:15:00 | 0 |\n",
       "\n"
      ],
      "text/plain": [
       "  Start               Power\n",
       "1 2019-01-07 00:00:00 0    \n",
       "2 2019-01-07 00:15:00 0    \n",
       "3 2019-01-07 00:30:00 0    \n",
       "4 2019-01-07 00:45:00 0    \n",
       "5 2019-01-07 01:00:00 0    \n",
       "6 2019-01-07 01:15:00 0    "
      ]
     },
     "metadata": {},
     "output_type": "display_data"
    }
   ],
   "source": [
    "df <- read.csv('../Data/palo_alto.csv')\n",
    "step=15\n",
    "begin = '2019-01-07' \n",
    "end = '2019-09-29'\n",
    "tz = \"US/Pacific\"\n",
    "\n",
    "all_trans <- transactions(df = df,train_starts = begin,train_ends = end,tz = tz)\n",
    "profile <- load_profile(all_trans,step,tz=tz)\n",
    "head(profile)"
   ]
  },
  {
   "cell_type": "markdown",
   "id": "ad10f114-93d6-4226-807d-95fd96ee9bd1",
   "metadata": {},
   "source": [
    "# Predictions"
   ]
  },
  {
   "cell_type": "code",
   "execution_count": 1,
   "id": "af901606-50c5-45ec-82c3-2fba2489d060",
   "metadata": {},
   "outputs": [],
   "source": [
    "data <- readRDS('../Outputs/transactions.rds')\n",
    "step=15"
   ]
  },
  {
   "cell_type": "code",
   "execution_count": 9,
   "id": "f3ddc98b-213a-41db-b73d-6c8264b17733",
   "metadata": {},
   "outputs": [],
   "source": [
    "library(lubridate)\n",
    "library(dplyr)\n",
    "library(furrr)\n",
    "library(purrr)"
   ]
  },
  {
   "cell_type": "code",
   "execution_count": 13,
   "id": "4e5f71b4-3446-467f-920c-f524379ce030",
   "metadata": {},
   "outputs": [
    {
     "data": {
      "text/plain": [
       "Time difference of 2.275244 mins"
      ]
     },
     "metadata": {},
     "output_type": "display_data"
    }
   ],
   "source": [
    "time_start <- Sys.time()\n",
    "plan(multisession)\n",
    "\n",
    "profiles <- flatten(data) %>%\n",
    "  future_map_dfr(load_profile, step=step)\n",
    "\n",
    "plan(sequential)\n",
    "\n",
    "Sys.time() - time_start"
   ]
  },
  {
   "cell_type": "code",
   "execution_count": 14,
   "id": "47ae02b3-a2ac-4130-826a-5d7148a6f830",
   "metadata": {},
   "outputs": [
    {
     "data": {
      "text/html": [
       "<table class=\"dataframe\">\n",
       "<caption>A tibble: 6 × 2</caption>\n",
       "<thead>\n",
       "\t<tr><th scope=col>Start</th><th scope=col>Power</th></tr>\n",
       "\t<tr><th scope=col>&lt;dttm&gt;</th><th scope=col>&lt;dbl&gt;</th></tr>\n",
       "</thead>\n",
       "<tbody>\n",
       "\t<tr><td>2019-09-30 00:00:00</td><td>0.000000</td></tr>\n",
       "\t<tr><td>2019-09-30 00:15:00</td><td>0.000000</td></tr>\n",
       "\t<tr><td>2019-09-30 00:30:00</td><td>0.000000</td></tr>\n",
       "\t<tr><td>2019-09-30 00:45:00</td><td>0.000000</td></tr>\n",
       "\t<tr><td>2019-09-30 01:00:00</td><td>0.000000</td></tr>\n",
       "\t<tr><td>2019-09-30 01:15:00</td><td>6.018143</td></tr>\n",
       "</tbody>\n",
       "</table>\n"
      ],
      "text/latex": [
       "A tibble: 6 × 2\n",
       "\\begin{tabular}{ll}\n",
       " Start & Power\\\\\n",
       " <dttm> & <dbl>\\\\\n",
       "\\hline\n",
       "\t 2019-09-30 00:00:00 & 0.000000\\\\\n",
       "\t 2019-09-30 00:15:00 & 0.000000\\\\\n",
       "\t 2019-09-30 00:30:00 & 0.000000\\\\\n",
       "\t 2019-09-30 00:45:00 & 0.000000\\\\\n",
       "\t 2019-09-30 01:00:00 & 0.000000\\\\\n",
       "\t 2019-09-30 01:15:00 & 6.018143\\\\\n",
       "\\end{tabular}\n"
      ],
      "text/markdown": [
       "\n",
       "A tibble: 6 × 2\n",
       "\n",
       "| Start &lt;dttm&gt; | Power &lt;dbl&gt; |\n",
       "|---|---|\n",
       "| 2019-09-30 00:00:00 | 0.000000 |\n",
       "| 2019-09-30 00:15:00 | 0.000000 |\n",
       "| 2019-09-30 00:30:00 | 0.000000 |\n",
       "| 2019-09-30 00:45:00 | 0.000000 |\n",
       "| 2019-09-30 01:00:00 | 0.000000 |\n",
       "| 2019-09-30 01:15:00 | 6.018143 |\n",
       "\n"
      ],
      "text/plain": [
       "  Start               Power   \n",
       "1 2019-09-30 00:00:00 0.000000\n",
       "2 2019-09-30 00:15:00 0.000000\n",
       "3 2019-09-30 00:30:00 0.000000\n",
       "4 2019-09-30 00:45:00 0.000000\n",
       "5 2019-09-30 01:00:00 0.000000\n",
       "6 2019-09-30 01:15:00 6.018143"
      ]
     },
     "metadata": {},
     "output_type": "display_data"
    }
   ],
   "source": [
    "head(profiles)"
   ]
  },
  {
   "cell_type": "code",
   "execution_count": 15,
   "id": "13b57e49-3aa8-4b36-8d99-cc787e673c88",
   "metadata": {},
   "outputs": [],
   "source": [
    "final <- profiles %>%\n",
    "group_by(Start) %>%\n",
    "summarise(\n",
    "  mean = mean(Power),\n",
    "  q10 = quantile(Power, 0.10),\n",
    "  q20 = quantile(Power, 0.20),\n",
    "  q30 = quantile(Power, 0.30),\n",
    "  q40 = quantile(Power, 0.40),\n",
    "  q50 = quantile(Power, 0.50),\n",
    "  q60 = quantile(Power, 0.60),\n",
    "  q70 = quantile(Power, 0.70),\n",
    "  q80 = quantile(Power, 0.80),\n",
    "  q90 = quantile(Power, 0.90)\n",
    ")"
   ]
  },
  {
   "cell_type": "code",
   "execution_count": 18,
   "id": "21965776-608e-49c9-8cb7-f09a8f88e44b",
   "metadata": {},
   "outputs": [
    {
     "data": {
      "text/html": [
       "<table class=\"dataframe\">\n",
       "<caption>A tibble: 6 × 11</caption>\n",
       "<thead>\n",
       "\t<tr><th scope=col>Start</th><th scope=col>mean</th><th scope=col>q10</th><th scope=col>q20</th><th scope=col>q30</th><th scope=col>q40</th><th scope=col>q50</th><th scope=col>q60</th><th scope=col>q70</th><th scope=col>q80</th><th scope=col>q90</th></tr>\n",
       "\t<tr><th scope=col>&lt;dttm&gt;</th><th scope=col>&lt;dbl&gt;</th><th scope=col>&lt;dbl&gt;</th><th scope=col>&lt;dbl&gt;</th><th scope=col>&lt;dbl&gt;</th><th scope=col>&lt;dbl&gt;</th><th scope=col>&lt;dbl&gt;</th><th scope=col>&lt;dbl&gt;</th><th scope=col>&lt;dbl&gt;</th><th scope=col>&lt;dbl&gt;</th><th scope=col>&lt;dbl&gt;</th></tr>\n",
       "</thead>\n",
       "<tbody>\n",
       "\t<tr><td>2019-10-13 22:30:00</td><td>20.31951</td><td>5.985223</td><td>9.667107</td><td>12.708702</td><td>16.120175</td><td>18.61419</td><td>22.01795</td><td>25.57902</td><td>29.97117</td><td>36.09538</td></tr>\n",
       "\t<tr><td>2019-10-13 22:45:00</td><td>18.25301</td><td>5.874742</td><td>9.038842</td><td>11.879114</td><td>14.838233</td><td>17.57497</td><td>20.25853</td><td>23.56801</td><td>27.19609</td><td>33.17461</td></tr>\n",
       "\t<tr><td>2019-10-13 23:00:00</td><td>16.50624</td><td>4.101919</td><td>6.270959</td><td> 9.993564</td><td>12.132435</td><td>15.29293</td><td>17.98717</td><td>21.19104</td><td>24.48161</td><td>30.26908</td></tr>\n",
       "\t<tr><td>2019-10-13 23:15:00</td><td>15.06646</td><td>3.245373</td><td>6.019861</td><td> 9.172507</td><td>11.877530</td><td>13.41661</td><td>16.60125</td><td>19.00111</td><td>23.60110</td><td>28.31902</td></tr>\n",
       "\t<tr><td>2019-10-13 23:30:00</td><td>13.82129</td><td>3.056548</td><td>5.956424</td><td> 8.156863</td><td>10.525283</td><td>12.08263</td><td>15.19198</td><td>17.97711</td><td>21.38556</td><td>26.92477</td></tr>\n",
       "\t<tr><td>2019-10-13 23:45:00</td><td>12.47386</td><td>0.000000</td><td>5.815037</td><td> 6.063765</td><td> 9.182706</td><td>11.87255</td><td>12.74057</td><td>16.26054</td><td>19.35502</td><td>24.28307</td></tr>\n",
       "</tbody>\n",
       "</table>\n"
      ],
      "text/latex": [
       "A tibble: 6 × 11\n",
       "\\begin{tabular}{lllllllllll}\n",
       " Start & mean & q10 & q20 & q30 & q40 & q50 & q60 & q70 & q80 & q90\\\\\n",
       " <dttm> & <dbl> & <dbl> & <dbl> & <dbl> & <dbl> & <dbl> & <dbl> & <dbl> & <dbl> & <dbl>\\\\\n",
       "\\hline\n",
       "\t 2019-10-13 22:30:00 & 20.31951 & 5.985223 & 9.667107 & 12.708702 & 16.120175 & 18.61419 & 22.01795 & 25.57902 & 29.97117 & 36.09538\\\\\n",
       "\t 2019-10-13 22:45:00 & 18.25301 & 5.874742 & 9.038842 & 11.879114 & 14.838233 & 17.57497 & 20.25853 & 23.56801 & 27.19609 & 33.17461\\\\\n",
       "\t 2019-10-13 23:00:00 & 16.50624 & 4.101919 & 6.270959 &  9.993564 & 12.132435 & 15.29293 & 17.98717 & 21.19104 & 24.48161 & 30.26908\\\\\n",
       "\t 2019-10-13 23:15:00 & 15.06646 & 3.245373 & 6.019861 &  9.172507 & 11.877530 & 13.41661 & 16.60125 & 19.00111 & 23.60110 & 28.31902\\\\\n",
       "\t 2019-10-13 23:30:00 & 13.82129 & 3.056548 & 5.956424 &  8.156863 & 10.525283 & 12.08263 & 15.19198 & 17.97711 & 21.38556 & 26.92477\\\\\n",
       "\t 2019-10-13 23:45:00 & 12.47386 & 0.000000 & 5.815037 &  6.063765 &  9.182706 & 11.87255 & 12.74057 & 16.26054 & 19.35502 & 24.28307\\\\\n",
       "\\end{tabular}\n"
      ],
      "text/markdown": [
       "\n",
       "A tibble: 6 × 11\n",
       "\n",
       "| Start &lt;dttm&gt; | mean &lt;dbl&gt; | q10 &lt;dbl&gt; | q20 &lt;dbl&gt; | q30 &lt;dbl&gt; | q40 &lt;dbl&gt; | q50 &lt;dbl&gt; | q60 &lt;dbl&gt; | q70 &lt;dbl&gt; | q80 &lt;dbl&gt; | q90 &lt;dbl&gt; |\n",
       "|---|---|---|---|---|---|---|---|---|---|---|\n",
       "| 2019-10-13 22:30:00 | 20.31951 | 5.985223 | 9.667107 | 12.708702 | 16.120175 | 18.61419 | 22.01795 | 25.57902 | 29.97117 | 36.09538 |\n",
       "| 2019-10-13 22:45:00 | 18.25301 | 5.874742 | 9.038842 | 11.879114 | 14.838233 | 17.57497 | 20.25853 | 23.56801 | 27.19609 | 33.17461 |\n",
       "| 2019-10-13 23:00:00 | 16.50624 | 4.101919 | 6.270959 |  9.993564 | 12.132435 | 15.29293 | 17.98717 | 21.19104 | 24.48161 | 30.26908 |\n",
       "| 2019-10-13 23:15:00 | 15.06646 | 3.245373 | 6.019861 |  9.172507 | 11.877530 | 13.41661 | 16.60125 | 19.00111 | 23.60110 | 28.31902 |\n",
       "| 2019-10-13 23:30:00 | 13.82129 | 3.056548 | 5.956424 |  8.156863 | 10.525283 | 12.08263 | 15.19198 | 17.97711 | 21.38556 | 26.92477 |\n",
       "| 2019-10-13 23:45:00 | 12.47386 | 0.000000 | 5.815037 |  6.063765 |  9.182706 | 11.87255 | 12.74057 | 16.26054 | 19.35502 | 24.28307 |\n",
       "\n"
      ],
      "text/plain": [
       "  Start               mean     q10      q20      q30       q40       q50     \n",
       "1 2019-10-13 22:30:00 20.31951 5.985223 9.667107 12.708702 16.120175 18.61419\n",
       "2 2019-10-13 22:45:00 18.25301 5.874742 9.038842 11.879114 14.838233 17.57497\n",
       "3 2019-10-13 23:00:00 16.50624 4.101919 6.270959  9.993564 12.132435 15.29293\n",
       "4 2019-10-13 23:15:00 15.06646 3.245373 6.019861  9.172507 11.877530 13.41661\n",
       "5 2019-10-13 23:30:00 13.82129 3.056548 5.956424  8.156863 10.525283 12.08263\n",
       "6 2019-10-13 23:45:00 12.47386 0.000000 5.815037  6.063765  9.182706 11.87255\n",
       "  q60      q70      q80      q90     \n",
       "1 22.01795 25.57902 29.97117 36.09538\n",
       "2 20.25853 23.56801 27.19609 33.17461\n",
       "3 17.98717 21.19104 24.48161 30.26908\n",
       "4 16.60125 19.00111 23.60110 28.31902\n",
       "5 15.19198 17.97711 21.38556 26.92477\n",
       "6 12.74057 16.26054 19.35502 24.28307"
      ]
     },
     "metadata": {},
     "output_type": "display_data"
    }
   ],
   "source": [
    "tail(final)"
   ]
  }
 ],
 "metadata": {
  "kernelspec": {
   "display_name": "R",
   "language": "R",
   "name": "ir"
  },
  "language_info": {
   "codemirror_mode": "r",
   "file_extension": ".r",
   "mimetype": "text/x-r-source",
   "name": "R",
   "pygments_lexer": "r",
   "version": "4.4.2"
  }
 },
 "nbformat": 4,
 "nbformat_minor": 5
}
